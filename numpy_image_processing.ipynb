{
 "cells": [
  {
   "cell_type": "code",
   "execution_count": 1,
   "metadata": {},
   "outputs": [
    {
     "data": {
      "text/plain": [
       "['.489614.padl',\n",
       " '.anaconda',\n",
       " '.android',\n",
       " '.atom',\n",
       " '.bash_history',\n",
       " '.bash_profile',\n",
       " '.bash_profile-anaconda.bak',\n",
       " '.bash_profile.backup',\n",
       " '.bash_profile.pysave',\n",
       " '.bash_sessions',\n",
       " '.bitnami',\n",
       " '.cache',\n",
       " '.CFUserTextEncoding',\n",
       " '.conda',\n",
       " '.condarc',\n",
       " '.config',\n",
       " '.continuum',\n",
       " '.dropbox',\n",
       " '.DS_Store',\n",
       " '.eclipse',\n",
       " '.gem',\n",
       " '.git',\n",
       " '.gitignore',\n",
       " '.gradle',\n",
       " '.IdentityService',\n",
       " '.idlerc',\n",
       " '.ipynb_checkpoints',\n",
       " '.ipython',\n",
       " '.jupyter',\n",
       " '.lesshst',\n",
       " '.local',\n",
       " '.m2',\n",
       " '.matplotlib',\n",
       " '.metadata',\n",
       " '.mono',\n",
       " '.mysql_history',\n",
       " '.npm',\n",
       " '.nuget',\n",
       " '.octave_hist',\n",
       " '.oracle_jre_usage',\n",
       " '.p2',\n",
       " '.pencil',\n",
       " '.pgadmin',\n",
       " '.project',\n",
       " '.python_history',\n",
       " '.QtWebEngineProcess',\n",
       " '.Rapp.history',\n",
       " '.RData',\n",
       " '.Rhistory',\n",
       " '.rstudio-desktop',\n",
       " '.ServiceHub',\n",
       " '.settings',\n",
       " '.spyder',\n",
       " '.spyder-py3',\n",
       " '.sqldeveloper',\n",
       " '.ssh',\n",
       " '.subversion',\n",
       " '.templateengine',\n",
       " '.ti',\n",
       " '.tooling',\n",
       " '.Trash',\n",
       " '.vagrant',\n",
       " '.vagrant.d',\n",
       " '.viminfo',\n",
       " '2313131.txt',\n",
       " '424-spring2017-project0',\n",
       " 'anaconda',\n",
       " 'AnacondaProjects',\n",
       " 'Applications',\n",
       " 'Assignment4',\n",
       " 'BPD_Arrests.csv',\n",
       " 'build.gradle',\n",
       " 'bumpy_image_processing.ipynb',\n",
       " 'db.sqlite3',\n",
       " 'Desktop',\n",
       " 'Documents',\n",
       " 'Downloads',\n",
       " 'Dropbox',\n",
       " 'eclipse',\n",
       " 'eclipse-workspace',\n",
       " 'edb_postgis_2_3_pg96.app.zip',\n",
       " 'emily',\n",
       " 'emily.pub',\n",
       " 'exercise.R',\n",
       " 'EZComm',\n",
       " 'git',\n",
       " 'Google Drive',\n",
       " 'google-cloud-sdk',\n",
       " 'gradle',\n",
       " 'gradlew',\n",
       " 'gradlew.bat',\n",
       " 'gs-accessing-data-mysql',\n",
       " 'Library',\n",
       " 'manage.py',\n",
       " 'media',\n",
       " 'Movies',\n",
       " 'Music',\n",
       " 'musicwriters',\n",
       " 'myn.py',\n",
       " 'path',\n",
       " 'Pictures',\n",
       " 'Public',\n",
       " 'Python_Pandas_Data_Preprocessing.ipynb',\n",
       " 'README.md',\n",
       " 'requirements.txt',\n",
       " 'settings.gradle',\n",
       " 'simple_html_content_parse.ipynb',\n",
       " 'smallgray.png',\n",
       " 'src',\n",
       " 'supermarkets-commas.txt',\n",
       " 'supermarkets-semi-colons.txt',\n",
       " 'supermarkets.csv',\n",
       " 'supermarkets.json',\n",
       " 'supermarkets.xlsx',\n",
       " 'ti',\n",
       " 'Untitled Folder',\n",
       " 'Untitled Folder 1',\n",
       " 'Untitled.ipynb',\n",
       " 'Untitled1.ipynb',\n",
       " 'Untitled2.ipynb',\n",
       " 'Vagrantfile',\n",
       " 'VirtualBox VMs',\n",
       " 'website',\n",
       " 'workspace',\n",
       " 'workspace_v6_2']"
      ]
     },
     "execution_count": 1,
     "metadata": {},
     "output_type": "execute_result"
    }
   ],
   "source": [
    "import os\n",
    "os.listdir()"
   ]
  },
  {
   "cell_type": "code",
   "execution_count": 10,
   "metadata": {},
   "outputs": [
    {
     "name": "stdout",
     "output_type": "stream",
     "text": [
      "[ 0  1  2  3  4  5  6  7  8  9 10 11 12 13 14 15 16 17 18 19 20 21 22 23 24\n",
      " 25 26]\n"
     ]
    }
   ],
   "source": [
    "import numpy\n",
    "n=numpy.arange(27)\n",
    "print(n)"
   ]
  },
  {
   "cell_type": "code",
   "execution_count": 11,
   "metadata": {},
   "outputs": [
    {
     "data": {
      "text/plain": [
       "array([[[ 0,  1,  2],\n",
       "        [ 3,  4,  5],\n",
       "        [ 6,  7,  8]],\n",
       "\n",
       "       [[ 9, 10, 11],\n",
       "        [12, 13, 14],\n",
       "        [15, 16, 17]],\n",
       "\n",
       "       [[18, 19, 20],\n",
       "        [21, 22, 23],\n",
       "        [24, 25, 26]]])"
      ]
     },
     "execution_count": 11,
     "metadata": {},
     "output_type": "execute_result"
    }
   ],
   "source": [
    "n.reshape(3,3,3)"
   ]
  },
  {
   "cell_type": "code",
   "execution_count": 12,
   "metadata": {},
   "outputs": [
    {
     "data": {
      "text/plain": [
       "array([list([123, 12, 13, 12, 11]), list([]), list([])], dtype=object)"
      ]
     },
     "execution_count": 12,
     "metadata": {},
     "output_type": "execute_result"
    }
   ],
   "source": [
    "m=numpy.asarray([[123,12,13,12,11],[],[]])\n",
    "m"
   ]
  },
  {
   "cell_type": "code",
   "execution_count": 13,
   "metadata": {},
   "outputs": [
    {
     "name": "stdout",
     "output_type": "stream",
     "text": [
      "[list([123, 12, 13, 12, 11]) list([]) list([])]\n"
     ]
    }
   ],
   "source": [
    "print(m)"
   ]
  },
  {
   "cell_type": "code",
   "execution_count": 14,
   "metadata": {},
   "outputs": [
    {
     "data": {
      "text/plain": [
       "array([[187, 158, 104, 121, 143],\n",
       "       [198, 125, 255, 255, 147],\n",
       "       [209, 134, 255,  97, 182]], dtype=uint8)"
      ]
     },
     "execution_count": 14,
     "metadata": {},
     "output_type": "execute_result"
    }
   ],
   "source": [
    "import cv2\n",
    "im_g=cv2.imread(\"smallgray.png\",0)#0 means blue,yellow,green\n",
    "im_g"
   ]
  },
  {
   "cell_type": "code",
   "execution_count": 15,
   "metadata": {},
   "outputs": [
    {
     "data": {
      "text/plain": [
       "array([[[187, 187, 187],\n",
       "        [158, 158, 158],\n",
       "        [104, 104, 104],\n",
       "        [121, 121, 121],\n",
       "        [143, 143, 143]],\n",
       "\n",
       "       [[198, 198, 198],\n",
       "        [125, 125, 125],\n",
       "        [255, 255, 255],\n",
       "        [255, 255, 255],\n",
       "        [147, 147, 147]],\n",
       "\n",
       "       [[209, 209, 209],\n",
       "        [134, 134, 134],\n",
       "        [255, 255, 255],\n",
       "        [ 97,  97,  97],\n",
       "        [182, 182, 182]]], dtype=uint8)"
      ]
     },
     "execution_count": 15,
     "metadata": {},
     "output_type": "execute_result"
    }
   ],
   "source": [
    "im_g=cv2.imread(\"smallgray.png\",1)#means 1 for blue, 1 for yellow, 1 for green\n",
    "im_g"
   ]
  },
  {
   "cell_type": "code",
   "execution_count": 16,
   "metadata": {},
   "outputs": [
    {
     "data": {
      "text/plain": [
       "True"
      ]
     },
     "execution_count": 16,
     "metadata": {},
     "output_type": "execute_result"
    }
   ],
   "source": [
    "cv2.imwrite(\"newsmallgray.png\",im_g)\n"
   ]
  },
  {
   "cell_type": "code",
   "execution_count": 17,
   "metadata": {},
   "outputs": [
    {
     "data": {
      "text/plain": [
       "array([[[104, 104, 104]],\n",
       "\n",
       "       [[255, 255, 255]],\n",
       "\n",
       "       [[255, 255, 255]]], dtype=uint8)"
      ]
     },
     "execution_count": 17,
     "metadata": {},
     "output_type": "execute_result"
    }
   ],
   "source": [
    "im_g[:,2:3]"
   ]
  },
  {
   "cell_type": "code",
   "execution_count": 18,
   "metadata": {},
   "outputs": [
    {
     "data": {
      "text/plain": [
       "array([182, 182, 182], dtype=uint8)"
      ]
     },
     "execution_count": 18,
     "metadata": {},
     "output_type": "execute_result"
    }
   ],
   "source": [
    "im_g[2,4]"
   ]
  },
  {
   "cell_type": "code",
   "execution_count": 19,
   "metadata": {},
   "outputs": [
    {
     "name": "stdout",
     "output_type": "stream",
     "text": [
      "[[187 187 187]\n",
      " [158 158 158]\n",
      " [104 104 104]\n",
      " [121 121 121]\n",
      " [143 143 143]]\n",
      "[[198 198 198]\n",
      " [125 125 125]\n",
      " [255 255 255]\n",
      " [255 255 255]\n",
      " [147 147 147]]\n",
      "[[209 209 209]\n",
      " [134 134 134]\n",
      " [255 255 255]\n",
      " [ 97  97  97]\n",
      " [182 182 182]]\n"
     ]
    }
   ],
   "source": [
    "for i in im_g:\n",
    "    print(i)"
   ]
  },
  {
   "cell_type": "code",
   "execution_count": 22,
   "metadata": {},
   "outputs": [
    {
     "name": "stdout",
     "output_type": "stream",
     "text": [
      "[[[187 187 187]\n",
      "  [158 158 158]\n",
      "  [104 104 104]\n",
      "  [121 121 121]\n",
      "  [143 143 143]\n",
      "  [187 187 187]\n",
      "  [158 158 158]\n",
      "  [104 104 104]\n",
      "  [121 121 121]\n",
      "  [143 143 143]\n",
      "  [187 187 187]\n",
      "  [158 158 158]\n",
      "  [104 104 104]\n",
      "  [121 121 121]\n",
      "  [143 143 143]]\n",
      "\n",
      " [[198 198 198]\n",
      "  [125 125 125]\n",
      "  [255 255 255]\n",
      "  [255 255 255]\n",
      "  [147 147 147]\n",
      "  [198 198 198]\n",
      "  [125 125 125]\n",
      "  [255 255 255]\n",
      "  [255 255 255]\n",
      "  [147 147 147]\n",
      "  [198 198 198]\n",
      "  [125 125 125]\n",
      "  [255 255 255]\n",
      "  [255 255 255]\n",
      "  [147 147 147]]\n",
      "\n",
      " [[209 209 209]\n",
      "  [134 134 134]\n",
      "  [255 255 255]\n",
      "  [ 97  97  97]\n",
      "  [182 182 182]\n",
      "  [209 209 209]\n",
      "  [134 134 134]\n",
      "  [255 255 255]\n",
      "  [ 97  97  97]\n",
      "  [182 182 182]\n",
      "  [209 209 209]\n",
      "  [134 134 134]\n",
      "  [255 255 255]\n",
      "  [ 97  97  97]\n",
      "  [182 182 182]]]\n"
     ]
    }
   ],
   "source": [
    "ims=numpy.hstack((im_g,im_g,im_g))\n",
    "print(ims)"
   ]
  },
  {
   "cell_type": "code",
   "execution_count": 23,
   "metadata": {},
   "outputs": [
    {
     "data": {
      "text/plain": [
       "[array([[[187, 187, 187],\n",
       "         [158, 158, 158],\n",
       "         [104, 104, 104],\n",
       "         [121, 121, 121],\n",
       "         [143, 143, 143],\n",
       "         [187, 187, 187],\n",
       "         [158, 158, 158],\n",
       "         [104, 104, 104],\n",
       "         [121, 121, 121],\n",
       "         [143, 143, 143],\n",
       "         [187, 187, 187],\n",
       "         [158, 158, 158],\n",
       "         [104, 104, 104],\n",
       "         [121, 121, 121],\n",
       "         [143, 143, 143]]], dtype=uint8), array([[[198, 198, 198],\n",
       "         [125, 125, 125],\n",
       "         [255, 255, 255],\n",
       "         [255, 255, 255],\n",
       "         [147, 147, 147],\n",
       "         [198, 198, 198],\n",
       "         [125, 125, 125],\n",
       "         [255, 255, 255],\n",
       "         [255, 255, 255],\n",
       "         [147, 147, 147],\n",
       "         [198, 198, 198],\n",
       "         [125, 125, 125],\n",
       "         [255, 255, 255],\n",
       "         [255, 255, 255],\n",
       "         [147, 147, 147]]], dtype=uint8), array([[[209, 209, 209],\n",
       "         [134, 134, 134],\n",
       "         [255, 255, 255],\n",
       "         [ 97,  97,  97],\n",
       "         [182, 182, 182],\n",
       "         [209, 209, 209],\n",
       "         [134, 134, 134],\n",
       "         [255, 255, 255],\n",
       "         [ 97,  97,  97],\n",
       "         [182, 182, 182],\n",
       "         [209, 209, 209],\n",
       "         [134, 134, 134],\n",
       "         [255, 255, 255],\n",
       "         [ 97,  97,  97],\n",
       "         [182, 182, 182]]], dtype=uint8)]"
      ]
     },
     "execution_count": 23,
     "metadata": {},
     "output_type": "execute_result"
    }
   ],
   "source": [
    "numpy.vsplit(ims,3)"
   ]
  },
  {
   "cell_type": "code",
   "execution_count": 25,
   "metadata": {},
   "outputs": [],
   "source": [
    "import folium"
   ]
  },
  {
   "cell_type": "code",
   "execution_count": 28,
   "metadata": {},
   "outputs": [
    {
     "data": {
      "text/html": [
       "<div style=\"width:100%;\"><div style=\"position:relative;width:100%;height:0;padding-bottom:60%;\"><iframe src=\"data:text/html;charset=utf-8;base64,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\" style=\"position:absolute;width:100%;height:100%;left:0;top:0;border:none !important;\" allowfullscreen webkitallowfullscreen mozallowfullscreen></iframe></div></div>"
      ],
      "text/plain": [
       "<folium.folium.Map at 0x11b441978>"
      ]
     },
     "execution_count": 28,
     "metadata": {},
     "output_type": "execute_result"
    }
   ],
   "source": [
    "map_osm=folium.Map(location=[37.7529648, -122.4317141])\n",
    "map_osm"
   ]
  },
  {
   "cell_type": "code",
   "execution_count": 29,
   "metadata": {},
   "outputs": [
    {
     "data": {
      "text/html": [
       "<div style=\"width:100%;\"><div style=\"position:relative;width:100%;height:0;padding-bottom:60%;\"><iframe src=\"data:text/html;charset=utf-8;base64,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\" style=\"position:absolute;width:100%;height:100%;left:0;top:0;border:none !important;\" allowfullscreen webkitallowfullscreen mozallowfullscreen></iframe></div></div>"
      ],
      "text/plain": [
       "<folium.folium.Map at 0x11b44a4a8>"
      ]
     },
     "execution_count": 29,
     "metadata": {},
     "output_type": "execute_result"
    }
   ],
   "source": [
    "map_1=folium.Map(location=[45.372,-121.6972],zoom_start=12,tiles='Stamen Terrain')\n",
    "folium.Marker([45.3288,-121.6625],popup=\"Mt.Hood Meadows\").add_to(map_1)\n",
    "folium.Marker([45.3311,-121.7113],popup='Timberline lodge').add_to(map_1)\n",
    "map_1"
   ]
  },
  {
   "cell_type": "code",
   "execution_count": 34,
   "metadata": {},
   "outputs": [
    {
     "data": {
      "text/html": [
       "<div style=\"width:100%;\"><div style=\"position:relative;width:100%;height:0;padding-bottom:60%;\"><iframe src=\"data:text/html;charset=utf-8;base64,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\" style=\"position:absolute;width:100%;height:100%;left:0;top:0;border:none !important;\" allowfullscreen webkitallowfullscreen mozallowfullscreen></iframe></div></div>"
      ],
      "text/plain": [
       "<folium.folium.Map at 0x11b4b7b00>"
      ]
     },
     "execution_count": 34,
     "metadata": {},
     "output_type": "execute_result"
    }
   ],
   "source": [
    "map_2=folium.Map(location=[45.5236,-122.6750],zoom_start=10,tiles='Stamen Toner')\n",
    "folium.Marker([45.5244,-122.6699],popup=\"The waterfront\").add_to(map_2)\n",
    "folium.CircleMarker([45.5215,-122.6261],Radius=500,popup='Laurelhurst Park',color='#3186cc',fill_color='#3186cc',).add_to(map_2)\n",
    "map_2"
   ]
  },
  {
   "cell_type": "code",
   "execution_count": 38,
   "metadata": {
    "scrolled": true
   },
   "outputs": [
    {
     "data": {
      "text/html": [
       "<div style=\"width:100%;\"><div style=\"position:relative;width:100%;height:0;padding-bottom:60%;\"><iframe src=\"data:text/html;charset=utf-8;base64,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\" style=\"position:absolute;width:100%;height:100%;left:0;top:0;border:none !important;\" allowfullscreen webkitallowfullscreen mozallowfullscreen></iframe></div></div>"
      ],
      "text/plain": [
       "<folium.folium.Map at 0x11b486e10>"
      ]
     },
     "execution_count": 38,
     "metadata": {},
     "output_type": "execute_result"
    }
   ],
   "source": [
    "map_3=folium.Map(location=[46.8527,-121.7649],zoom_start=12,tiles='Stamen Terrain')\n",
    "folium.Marker([46.8354,-121.7325],popup=\"camp muir\").add_to(map_3)\n",
    "map_3.add_child(folium.LatLngPopup())\n",
    "map_3.add_child(folium.ClickForMarker(popup=\"Waypoint\"))\n",
    "\n",
    "\n",
    "map_3"
   ]
  },
  {
   "cell_type": "code",
   "execution_count": 52,
   "metadata": {},
   "outputs": [
    {
     "data": {
      "text/html": [
       "<div style=\"width:100%;\"><div style=\"position:relative;width:100%;height:0;padding-bottom:60%;\"><iframe src=\"data:text/html;charset=utf-8;base64,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\" style=\"position:absolute;width:100%;height:100%;left:0;top:0;border:none !important;\" allowfullscreen webkitallowfullscreen mozallowfullscreen></iframe></div></div>"
      ],
      "text/plain": [
       "<folium.folium.Map at 0x11ba826d8>"
      ]
     },
     "execution_count": 52,
     "metadata": {},
     "output_type": "execute_result"
    }
   ],
   "source": [
    "import pandas,folium\n",
    "df=pandas.read_csv(\"Volcanoes_USA.txt\")\n",
    "malp=folium.Map(location=[45.372,-121.697],zoom_start=5,tiles='Stamen Terrain')\n",
    "\n",
    "for la,lo,name in zip(df['LAT'],df['LON'],df['NAME']):\n",
    "    folium.Marker(location=[la,lo],popup=name).add_to(malp)\n",
    "malp"
   ]
  },
  {
   "cell_type": "code",
   "execution_count": null,
   "metadata": {
    "collapsed": true
   },
   "outputs": [],
   "source": [
    "import pandas,folium\n",
    "df=pandas.read_csv(\"Volcanoes_USA.txt\")\n",
    "map=folium.Map(location=[df['LAT'].mean(),df['LON'].mean()],zoom_start=5,tiles='Stamen Terrain')\n",
    "\n",
    "def color(elev):\n",
    "    minimum=int(min(df['ELEV']))\n",
    "    step=int((max(df['ELEV'])-min(df['ELEV']))/3)\n",
    "    if elev in range(minimum,minimum+step):\n",
    "        col='green'\n",
    "    elif elev in range(minimum+step,minimum+step*2):\n",
    "        col='orange'\n",
    "    else:\n",
    "        col='red'\n",
    "    return col\n",
    "\n",
    "fg=folium.FeatureGroup(name=\"Volcano Locations\")\n",
    "\n",
    "for la,lo,name,elev in zip(df['LAT'],df['LON'],df['NAME'],df['ELEV']):\n",
    "    fg.add_child(folium.Marker(location=[la,lo],popup=name,icon=folium.ICON(color(elev)))\n",
    "map.add_child(fg)\n",
    "map.add_child(folium.GeoJson(data=open('world_population.json'),\n",
    "                            name='world Population',\n",
    "                            style_function=lambda x:{'fillcolor:'green' if x['properties']['POP2005']<10000})\n",
    "                                                     \n",
    "map.add_child(folium.layerControl())\n",
    "map                                                     "
   ]
  },
  {
   "cell_type": "code",
   "execution_count": null,
   "metadata": {
    "collapsed": true
   },
   "outputs": [],
   "source": []
  }
 ],
 "metadata": {
  "kernelspec": {
   "display_name": "Python 3",
   "language": "python",
   "name": "python3"
  },
  "language_info": {
   "codemirror_mode": {
    "name": "ipython",
    "version": 3
   },
   "file_extension": ".py",
   "mimetype": "text/x-python",
   "name": "python",
   "nbconvert_exporter": "python",
   "pygments_lexer": "ipython3",
   "version": "3.6.2"
  }
 },
 "nbformat": 4,
 "nbformat_minor": 2
}
