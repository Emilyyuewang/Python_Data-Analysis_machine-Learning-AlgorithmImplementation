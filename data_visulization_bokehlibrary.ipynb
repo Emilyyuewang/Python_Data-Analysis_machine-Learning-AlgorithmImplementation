{
 "cells": [
  {
   "cell_type": "code",
   "execution_count": 7,
   "metadata": {},
   "outputs": [],
   "source": [
    "from bokeh.plotting import figure\n",
    "from bokeh.io import output_file,show\n",
    "import pandas\n",
    "\n",
    "df=pandas.read_csv(\"data.csv\")\n",
    "x=df[\"x\"]\n",
    "y=df[\"y\"]\n",
    "\n",
    "output_file(\"1.html\")\n",
    "f=figure()\n",
    "f.line(x,y)\n",
    "show(f)\n"
   ]
  },
  {
   "cell_type": "code",
   "execution_count": 11,
   "metadata": {
    "collapsed": true
   },
   "outputs": [],
   "source": [
    "import pandas as pd\n",
    "\n",
    "from bokeh.models import ColumnDataSource, LabelSet, HoverTool\n",
    "from bokeh.plotting import figure, show, output_file\n",
    "from bokeh.sampledata.periodic_table import elements\n",
    "\n",
    "elements = elements.copy()\n",
    "elements = elements[elements[\"atomic number\"] <= 82]\n",
    "elements = elements[~pd.isnull(elements[\"melting point\"])]\n",
    "mass = [float(x.strip(\"[]\")) for x in elements[\"atomic mass\"]]\n",
    "elements[\"atomic mass\"] = mass\n",
    "\n",
    "palette = [\"#053061\", \"#2166ac\", \"#4393c3\", \"#92c5de\", \"#d1e5f0\",\n",
    "           \"#f7f7f7\", \"#fddbc7\", \"#f4a582\", \"#d6604d\", \"#b2182b\", \"#67001f\"]\n",
    "\n",
    "melting_points = elements[\"melting point\"]\n",
    "low = min(melting_points)\n",
    "high = max(melting_points)\n",
    "melting_point_inds = [int(10*(x-low)/(high-low)) for x in melting_points] #gives items in colors a value from 0-10\n",
    "elements['melting_colors'] = [palette[i] for i in melting_point_inds]\n",
    "\n",
    "TITLE = \"Density vs Atomic Weight of Elements (colored by melting point)\"\n",
    "tools = \"pan,wheel_zoom,box_zoom,reset,save\".split(',')\n",
    "hover = HoverTool(tooltips=[\n",
    "    (\"name\", \"@name\"),\n",
    "    (\"symbol:\", \"@symbol\"),\n",
    "    (\"density\", \"@density\"),\n",
    "    (\"atomic weight\", \"@{atomic mass}\"),\n",
    "    (\"melting point\", \"@{melting point}\")\n",
    "])\n",
    "tools.append(hover)\n",
    "\n",
    "p = figure(tools=tools, toolbar_location=\"above\", logo=\"grey\", plot_width=1200, title=TITLE)\n",
    "p.background_fill_color = \"#dddddd\"\n",
    "p.xaxis.axis_label = \"atomic weight (amu)\"\n",
    "p.yaxis.axis_label = \"density (g/cm^3)\"\n",
    "p.grid.grid_line_color = \"white\"\n",
    "\n",
    "source = ColumnDataSource(elements)\n",
    "\n",
    "p.circle(\"atomic mass\", \"density\", size=12, source=source,\n",
    "         color='melting_colors', line_color=\"black\", fill_alpha=0.8)\n",
    "\n",
    "labels = LabelSet(x=\"atomic mass\", y=\"density\", text=\"symbol\", y_offset=8,\n",
    "                  text_font_size=\"8pt\", text_color=\"#555555\",\n",
    "                  source=source, text_align='center')\n",
    "p.add_layout(labels)\n",
    "\n",
    "output_file(\"elements.html\", title=\"elements.py example\")\n",
    "\n",
    "show(p)"
   ]
  },
  {
   "cell_type": "code",
   "execution_count": null,
   "metadata": {
    "collapsed": true
   },
   "outputs": [],
   "source": []
  }
 ],
 "metadata": {
  "kernelspec": {
   "display_name": "Python 3",
   "language": "python",
   "name": "python3"
  },
  "language_info": {
   "codemirror_mode": {
    "name": "ipython",
    "version": 3
   },
   "file_extension": ".py",
   "mimetype": "text/x-python",
   "name": "python",
   "nbconvert_exporter": "python",
   "pygments_lexer": "ipython3",
   "version": "3.6.2"
  }
 },
 "nbformat": 4,
 "nbformat_minor": 2
}
